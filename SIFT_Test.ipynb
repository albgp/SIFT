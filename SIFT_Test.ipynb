{
 "metadata": {
  "language_info": {
   "codemirror_mode": {
    "name": "ipython",
    "version": 3
   },
   "file_extension": ".py",
   "mimetype": "text/x-python",
   "name": "python",
   "nbconvert_exporter": "python",
   "pygments_lexer": "ipython3",
   "version": "3.8.3-final"
  },
  "orig_nbformat": 2,
  "kernelspec": {
   "name": "python3",
   "display_name": "Python 3"
  }
 },
 "nbformat": 4,
 "nbformat_minor": 2,
 "cells": [
  {
   "source": [
    "import SIFT\n",
    "from numpy import sqrt"
   ],
   "cell_type": "code",
   "metadata": {},
   "execution_count": 7,
   "outputs": []
  },
  {
   "cell_type": "code",
   "execution_count": 11,
   "metadata": {},
   "outputs": [
    {
     "output_type": "stream",
     "name": "stdout",
     "text": [
      "[1.6, 1.2262734984654078, 1.5450077936447961, 1.9465878414647129]\n"
     ]
    }
   ],
   "source": [
    "        sigma=1.6\n",
    "        img_per_octave=1+3\n",
    "        k=2**(1./1)\n",
    "        kernels=[sigma]\n",
    "        for i in range(1, img_per_octave):\n",
    "            kernels.append(sqrt( (k**i*sigma)**2-(k**(i-1)*sigma)**2))\n",
    "        print(kernels)"
   ]
  },
  {
   "cell_type": "code",
   "execution_count": null,
   "metadata": {},
   "outputs": [],
   "source": []
  }
 ]
}